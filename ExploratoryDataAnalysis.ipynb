{
 "cells": [
  {
   "cell_type": "markdown",
   "metadata": {},
   "source": [
    "An initial analysis of the features that affect the target (metastatic_diagnosis_period), analysis of null values and null handling.\n",
    "\n",
    "- Correlation method - Kendall\n",
    "- Current list of features being used:\n",
    "\n",
    "    * \"patient_id\"\n",
    "    * \"metastatic_diagnosis_period\"\n",
    "    * \"breast_cancer_diagnosis_desc\"\n",
    "    * \"breast_cancer_diagnosis_code\""
   ]
  },
  {
   "cell_type": "code",
   "execution_count": 169,
   "metadata": {},
   "outputs": [],
   "source": [
    "import pandas as pd\n",
    "import numpy as np\n",
    "import matplotlib.pyplot as plt\n",
    "import seaborn as sns\n",
    "from sklearn.feature_selection import mutual_info_regression"
   ]
  },
  {
   "cell_type": "code",
   "execution_count": 170,
   "metadata": {},
   "outputs": [
    {
     "data": {
      "text/html": [
       "<div>\n",
       "<style scoped>\n",
       "    .dataframe tbody tr th:only-of-type {\n",
       "        vertical-align: middle;\n",
       "    }\n",
       "\n",
       "    .dataframe tbody tr th {\n",
       "        vertical-align: top;\n",
       "    }\n",
       "\n",
       "    .dataframe thead th {\n",
       "        text-align: right;\n",
       "    }\n",
       "</style>\n",
       "<table border=\"1\" class=\"dataframe\">\n",
       "  <thead>\n",
       "    <tr style=\"text-align: right;\">\n",
       "      <th></th>\n",
       "      <th>patient_id</th>\n",
       "      <th>patient_race</th>\n",
       "      <th>payer_type</th>\n",
       "      <th>patient_state</th>\n",
       "      <th>patient_zip3</th>\n",
       "      <th>Region</th>\n",
       "      <th>Division</th>\n",
       "      <th>patient_age</th>\n",
       "      <th>patient_gender</th>\n",
       "      <th>bmi</th>\n",
       "      <th>...</th>\n",
       "      <th>Average of Apr-18</th>\n",
       "      <th>Average of May-18</th>\n",
       "      <th>Average of Jun-18</th>\n",
       "      <th>Average of Jul-18</th>\n",
       "      <th>Average of Aug-18</th>\n",
       "      <th>Average of Sep-18</th>\n",
       "      <th>Average of Oct-18</th>\n",
       "      <th>Average of Nov-18</th>\n",
       "      <th>Average of Dec-18</th>\n",
       "      <th>metastatic_diagnosis_period</th>\n",
       "    </tr>\n",
       "  </thead>\n",
       "  <tbody>\n",
       "    <tr>\n",
       "      <th>0</th>\n",
       "      <td>268700</td>\n",
       "      <td>NaN</td>\n",
       "      <td>COMMERCIAL</td>\n",
       "      <td>AR</td>\n",
       "      <td>724</td>\n",
       "      <td>South</td>\n",
       "      <td>West South Central</td>\n",
       "      <td>39</td>\n",
       "      <td>F</td>\n",
       "      <td>NaN</td>\n",
       "      <td>...</td>\n",
       "      <td>52.55</td>\n",
       "      <td>74.77</td>\n",
       "      <td>79.96</td>\n",
       "      <td>81.69</td>\n",
       "      <td>78.30</td>\n",
       "      <td>74.56</td>\n",
       "      <td>59.98</td>\n",
       "      <td>42.98</td>\n",
       "      <td>41.18</td>\n",
       "      <td>191</td>\n",
       "    </tr>\n",
       "    <tr>\n",
       "      <th>1</th>\n",
       "      <td>484983</td>\n",
       "      <td>White</td>\n",
       "      <td>NaN</td>\n",
       "      <td>IL</td>\n",
       "      <td>629</td>\n",
       "      <td>Midwest</td>\n",
       "      <td>East North Central</td>\n",
       "      <td>55</td>\n",
       "      <td>F</td>\n",
       "      <td>35.36</td>\n",
       "      <td>...</td>\n",
       "      <td>49.30</td>\n",
       "      <td>72.87</td>\n",
       "      <td>77.40</td>\n",
       "      <td>77.43</td>\n",
       "      <td>75.83</td>\n",
       "      <td>72.64</td>\n",
       "      <td>58.36</td>\n",
       "      <td>39.68</td>\n",
       "      <td>39.71</td>\n",
       "      <td>33</td>\n",
       "    </tr>\n",
       "    <tr>\n",
       "      <th>2</th>\n",
       "      <td>277055</td>\n",
       "      <td>NaN</td>\n",
       "      <td>COMMERCIAL</td>\n",
       "      <td>CA</td>\n",
       "      <td>925</td>\n",
       "      <td>West</td>\n",
       "      <td>Pacific</td>\n",
       "      <td>59</td>\n",
       "      <td>F</td>\n",
       "      <td>NaN</td>\n",
       "      <td>...</td>\n",
       "      <td>68.50</td>\n",
       "      <td>70.31</td>\n",
       "      <td>78.61</td>\n",
       "      <td>87.24</td>\n",
       "      <td>85.52</td>\n",
       "      <td>80.75</td>\n",
       "      <td>70.81</td>\n",
       "      <td>62.67</td>\n",
       "      <td>55.58</td>\n",
       "      <td>157</td>\n",
       "    </tr>\n",
       "    <tr>\n",
       "      <th>3</th>\n",
       "      <td>320055</td>\n",
       "      <td>Hispanic</td>\n",
       "      <td>MEDICAID</td>\n",
       "      <td>CA</td>\n",
       "      <td>900</td>\n",
       "      <td>West</td>\n",
       "      <td>Pacific</td>\n",
       "      <td>59</td>\n",
       "      <td>F</td>\n",
       "      <td>NaN</td>\n",
       "      <td>...</td>\n",
       "      <td>63.34</td>\n",
       "      <td>63.10</td>\n",
       "      <td>67.45</td>\n",
       "      <td>75.86</td>\n",
       "      <td>75.24</td>\n",
       "      <td>71.10</td>\n",
       "      <td>68.95</td>\n",
       "      <td>65.46</td>\n",
       "      <td>59.46</td>\n",
       "      <td>146</td>\n",
       "    </tr>\n",
       "    <tr>\n",
       "      <th>4</th>\n",
       "      <td>190386</td>\n",
       "      <td>NaN</td>\n",
       "      <td>COMMERCIAL</td>\n",
       "      <td>CA</td>\n",
       "      <td>934</td>\n",
       "      <td>West</td>\n",
       "      <td>Pacific</td>\n",
       "      <td>71</td>\n",
       "      <td>F</td>\n",
       "      <td>NaN</td>\n",
       "      <td>...</td>\n",
       "      <td>59.45</td>\n",
       "      <td>60.24</td>\n",
       "      <td>64.77</td>\n",
       "      <td>69.81</td>\n",
       "      <td>70.13</td>\n",
       "      <td>68.10</td>\n",
       "      <td>65.38</td>\n",
       "      <td>60.72</td>\n",
       "      <td>54.08</td>\n",
       "      <td>286</td>\n",
       "    </tr>\n",
       "  </tbody>\n",
       "</table>\n",
       "<p>5 rows × 152 columns</p>\n",
       "</div>"
      ],
      "text/plain": [
       "   patient_id patient_race  payer_type patient_state  patient_zip3   Region  \\\n",
       "0      268700          NaN  COMMERCIAL            AR           724    South   \n",
       "1      484983        White         NaN            IL           629  Midwest   \n",
       "2      277055          NaN  COMMERCIAL            CA           925     West   \n",
       "3      320055     Hispanic    MEDICAID            CA           900     West   \n",
       "4      190386          NaN  COMMERCIAL            CA           934     West   \n",
       "\n",
       "             Division  patient_age patient_gender    bmi  ...  \\\n",
       "0  West South Central           39              F    NaN  ...   \n",
       "1  East North Central           55              F  35.36  ...   \n",
       "2             Pacific           59              F    NaN  ...   \n",
       "3             Pacific           59              F    NaN  ...   \n",
       "4             Pacific           71              F    NaN  ...   \n",
       "\n",
       "  Average of Apr-18 Average of May-18 Average of Jun-18 Average of Jul-18  \\\n",
       "0             52.55             74.77             79.96             81.69   \n",
       "1             49.30             72.87             77.40             77.43   \n",
       "2             68.50             70.31             78.61             87.24   \n",
       "3             63.34             63.10             67.45             75.86   \n",
       "4             59.45             60.24             64.77             69.81   \n",
       "\n",
       "  Average of Aug-18  Average of Sep-18  Average of Oct-18  Average of Nov-18  \\\n",
       "0             78.30              74.56              59.98              42.98   \n",
       "1             75.83              72.64              58.36              39.68   \n",
       "2             85.52              80.75              70.81              62.67   \n",
       "3             75.24              71.10              68.95              65.46   \n",
       "4             70.13              68.10              65.38              60.72   \n",
       "\n",
       "   Average of Dec-18  metastatic_diagnosis_period  \n",
       "0              41.18                          191  \n",
       "1              39.71                           33  \n",
       "2              55.58                          157  \n",
       "3              59.46                          146  \n",
       "4              54.08                          286  \n",
       "\n",
       "[5 rows x 152 columns]"
      ]
     },
     "execution_count": 170,
     "metadata": {},
     "output_type": "execute_result"
    }
   ],
   "source": [
    "df = pd.read_csv(\"train.csv\")\n",
    "df.head(5)"
   ]
  },
  {
   "cell_type": "code",
   "execution_count": 171,
   "metadata": {},
   "outputs": [
    {
     "name": "stdout",
     "output_type": "stream",
     "text": [
      "Total number of features: 152\n"
     ]
    }
   ],
   "source": [
    "print(f\"Total number of features: {len(df.axes[1])}\")"
   ]
  },
  {
   "cell_type": "markdown",
   "metadata": {},
   "source": [
    "Create a dataframe that displays the column names, the % of null values and the datatype of the column"
   ]
  },
  {
   "cell_type": "code",
   "execution_count": 172,
   "metadata": {},
   "outputs": [
    {
     "data": {
      "text/html": [
       "<div>\n",
       "<style scoped>\n",
       "    .dataframe tbody tr th:only-of-type {\n",
       "        vertical-align: middle;\n",
       "    }\n",
       "\n",
       "    .dataframe tbody tr th {\n",
       "        vertical-align: top;\n",
       "    }\n",
       "\n",
       "    .dataframe thead th {\n",
       "        text-align: right;\n",
       "    }\n",
       "</style>\n",
       "<table border=\"1\" class=\"dataframe\">\n",
       "  <thead>\n",
       "    <tr style=\"text-align: right;\">\n",
       "      <th></th>\n",
       "      <th>Feature</th>\n",
       "      <th>% Null Values</th>\n",
       "      <th>Data Type</th>\n",
       "    </tr>\n",
       "  </thead>\n",
       "  <tbody>\n",
       "    <tr>\n",
       "      <th>0</th>\n",
       "      <td>patient_id</td>\n",
       "      <td>0.000000</td>\n",
       "      <td>int64</td>\n",
       "    </tr>\n",
       "    <tr>\n",
       "      <th>1</th>\n",
       "      <td>patient_race</td>\n",
       "      <td>50.535186</td>\n",
       "      <td>object</td>\n",
       "    </tr>\n",
       "    <tr>\n",
       "      <th>2</th>\n",
       "      <td>payer_type</td>\n",
       "      <td>13.398618</td>\n",
       "      <td>object</td>\n",
       "    </tr>\n",
       "    <tr>\n",
       "      <th>3</th>\n",
       "      <td>patient_state</td>\n",
       "      <td>0.000000</td>\n",
       "      <td>object</td>\n",
       "    </tr>\n",
       "    <tr>\n",
       "      <th>4</th>\n",
       "      <td>patient_zip3</td>\n",
       "      <td>0.000000</td>\n",
       "      <td>int64</td>\n",
       "    </tr>\n",
       "  </tbody>\n",
       "</table>\n",
       "</div>"
      ],
      "text/plain": [
       "         Feature  % Null Values Data Type\n",
       "0     patient_id       0.000000     int64\n",
       "1   patient_race      50.535186    object\n",
       "2     payer_type      13.398618    object\n",
       "3  patient_state       0.000000    object\n",
       "4   patient_zip3       0.000000     int64"
      ]
     },
     "execution_count": 172,
     "metadata": {},
     "output_type": "execute_result"
    }
   ],
   "source": [
    "percentage_null_vals = df.isnull().mean()*100\n",
    "feature_dtypes = df.dtypes\n",
    "\n",
    "summary_df = pd.DataFrame({\n",
    "    'Feature': df.columns,\n",
    "    '% Null Values': percentage_null_vals,\n",
    "    'Data Type': feature_dtypes\n",
    "}).reset_index(drop=True)\n",
    "\n",
    "summary_df.head(5)"
   ]
  },
  {
   "cell_type": "markdown",
   "metadata": {},
   "source": [
    "## Determining Correlation Between Features and Target Variable"
   ]
  },
  {
   "cell_type": "code",
   "execution_count": 173,
   "metadata": {},
   "outputs": [
    {
     "name": "stdout",
     "output_type": "stream",
     "text": [
      "List of datatypes: [dtype('int64') dtype('O') dtype('float64')]\n"
     ]
    }
   ],
   "source": [
    "print(f\"List of datatypes: {summary_df['Data Type'].unique()}\")"
   ]
  },
  {
   "cell_type": "markdown",
   "metadata": {},
   "source": [
    "Here, df is split into 2 dataframes called numeric and categorical. This is to conduct correlation between the target and each feature to determine the top features that should be considered."
   ]
  },
  {
   "cell_type": "code",
   "execution_count": 174,
   "metadata": {},
   "outputs": [
    {
     "name": "stdout",
     "output_type": "stream",
     "text": [
      "Number of numeric features: 141\n",
      "Number of categorical features: 11\n"
     ]
    }
   ],
   "source": [
    "numeric = df.select_dtypes(include='number')\n",
    "categorical = df.select_dtypes(exclude='number')\n",
    "\n",
    "print(f\"Number of numeric features: {len(numeric.axes[1])}\")\n",
    "print(f\"Number of categorical features: {len(categorical.axes[1])}\")\n",
    "\n",
    "#Adding the target numeric column \"metastatic_diagnosis_period\" to categorical\n",
    "categorical[\"metastatic_diagnosis_period\"] = numeric[\"metastatic_diagnosis_period\"]"
   ]
  },
  {
   "cell_type": "markdown",
   "metadata": {},
   "source": [
    "### Computing correlation for categorical variables"
   ]
  },
  {
   "cell_type": "code",
   "execution_count": 175,
   "metadata": {},
   "outputs": [
    {
     "data": {
      "text/html": [
       "<div>\n",
       "<style scoped>\n",
       "    .dataframe tbody tr th:only-of-type {\n",
       "        vertical-align: middle;\n",
       "    }\n",
       "\n",
       "    .dataframe tbody tr th {\n",
       "        vertical-align: top;\n",
       "    }\n",
       "\n",
       "    .dataframe thead th {\n",
       "        text-align: right;\n",
       "    }\n",
       "</style>\n",
       "<table border=\"1\" class=\"dataframe\">\n",
       "  <thead>\n",
       "    <tr style=\"text-align: right;\">\n",
       "      <th></th>\n",
       "      <th>patient_race</th>\n",
       "      <th>payer_type</th>\n",
       "      <th>patient_state</th>\n",
       "      <th>Region</th>\n",
       "      <th>Division</th>\n",
       "      <th>patient_gender</th>\n",
       "      <th>breast_cancer_diagnosis_code</th>\n",
       "      <th>breast_cancer_diagnosis_desc</th>\n",
       "      <th>metastatic_cancer_diagnosis_code</th>\n",
       "      <th>metastatic_first_novel_treatment</th>\n",
       "      <th>metastatic_first_novel_treatment_type</th>\n",
       "      <th>metastatic_diagnosis_period</th>\n",
       "    </tr>\n",
       "  </thead>\n",
       "  <tbody>\n",
       "    <tr>\n",
       "      <th>0</th>\n",
       "      <td>NaN</td>\n",
       "      <td>COMMERCIAL</td>\n",
       "      <td>AR</td>\n",
       "      <td>South</td>\n",
       "      <td>West South Central</td>\n",
       "      <td>F</td>\n",
       "      <td>C50912</td>\n",
       "      <td>Malignant neoplasm of unspecified site of left...</td>\n",
       "      <td>C773</td>\n",
       "      <td>NaN</td>\n",
       "      <td>NaN</td>\n",
       "      <td>191</td>\n",
       "    </tr>\n",
       "    <tr>\n",
       "      <th>1</th>\n",
       "      <td>White</td>\n",
       "      <td>NaN</td>\n",
       "      <td>IL</td>\n",
       "      <td>Midwest</td>\n",
       "      <td>East North Central</td>\n",
       "      <td>F</td>\n",
       "      <td>C50412</td>\n",
       "      <td>Malig neoplasm of upper-outer quadrant of left...</td>\n",
       "      <td>C773</td>\n",
       "      <td>NaN</td>\n",
       "      <td>NaN</td>\n",
       "      <td>33</td>\n",
       "    </tr>\n",
       "  </tbody>\n",
       "</table>\n",
       "</div>"
      ],
      "text/plain": [
       "  patient_race  payer_type patient_state   Region            Division  \\\n",
       "0          NaN  COMMERCIAL            AR    South  West South Central   \n",
       "1        White         NaN            IL  Midwest  East North Central   \n",
       "\n",
       "  patient_gender breast_cancer_diagnosis_code  \\\n",
       "0              F                       C50912   \n",
       "1              F                       C50412   \n",
       "\n",
       "                        breast_cancer_diagnosis_desc  \\\n",
       "0  Malignant neoplasm of unspecified site of left...   \n",
       "1  Malig neoplasm of upper-outer quadrant of left...   \n",
       "\n",
       "  metastatic_cancer_diagnosis_code metastatic_first_novel_treatment  \\\n",
       "0                             C773                              NaN   \n",
       "1                             C773                              NaN   \n",
       "\n",
       "  metastatic_first_novel_treatment_type  metastatic_diagnosis_period  \n",
       "0                                   NaN                          191  \n",
       "1                                   NaN                           33  "
      ]
     },
     "execution_count": 175,
     "metadata": {},
     "output_type": "execute_result"
    }
   ],
   "source": [
    "categorical.head(2)"
   ]
  },
  {
   "cell_type": "code",
   "execution_count": 176,
   "metadata": {},
   "outputs": [
    {
     "data": {
      "text/html": [
       "<div>\n",
       "<style scoped>\n",
       "    .dataframe tbody tr th:only-of-type {\n",
       "        vertical-align: middle;\n",
       "    }\n",
       "\n",
       "    .dataframe tbody tr th {\n",
       "        vertical-align: top;\n",
       "    }\n",
       "\n",
       "    .dataframe thead th {\n",
       "        text-align: right;\n",
       "    }\n",
       "</style>\n",
       "<table border=\"1\" class=\"dataframe\">\n",
       "  <thead>\n",
       "    <tr style=\"text-align: right;\">\n",
       "      <th></th>\n",
       "      <th>patient_race</th>\n",
       "      <th>payer_type</th>\n",
       "      <th>patient_state</th>\n",
       "      <th>Region</th>\n",
       "      <th>Division</th>\n",
       "      <th>patient_gender</th>\n",
       "      <th>breast_cancer_diagnosis_code</th>\n",
       "      <th>breast_cancer_diagnosis_desc</th>\n",
       "      <th>metastatic_cancer_diagnosis_code</th>\n",
       "      <th>metastatic_diagnosis_period</th>\n",
       "    </tr>\n",
       "  </thead>\n",
       "  <tbody>\n",
       "    <tr>\n",
       "      <th>3</th>\n",
       "      <td>Hispanic</td>\n",
       "      <td>MEDICAID</td>\n",
       "      <td>CA</td>\n",
       "      <td>West</td>\n",
       "      <td>Pacific</td>\n",
       "      <td>F</td>\n",
       "      <td>C50911</td>\n",
       "      <td>Malignant neoplasm of unsp site of right femal...</td>\n",
       "      <td>C773</td>\n",
       "      <td>146</td>\n",
       "    </tr>\n",
       "    <tr>\n",
       "      <th>6</th>\n",
       "      <td>White</td>\n",
       "      <td>MEDICARE ADVANTAGE</td>\n",
       "      <td>OH</td>\n",
       "      <td>Midwest</td>\n",
       "      <td>East North Central</td>\n",
       "      <td>F</td>\n",
       "      <td>C50412</td>\n",
       "      <td>Malig neoplasm of upper-outer quadrant of left...</td>\n",
       "      <td>C799</td>\n",
       "      <td>59</td>\n",
       "    </tr>\n",
       "    <tr>\n",
       "      <th>7</th>\n",
       "      <td>White</td>\n",
       "      <td>COMMERCIAL</td>\n",
       "      <td>DE</td>\n",
       "      <td>South</td>\n",
       "      <td>South Atlantic</td>\n",
       "      <td>F</td>\n",
       "      <td>C50411</td>\n",
       "      <td>Malig neoplm of upper-outer quadrant of right ...</td>\n",
       "      <td>C792</td>\n",
       "      <td>316</td>\n",
       "    </tr>\n",
       "    <tr>\n",
       "      <th>9</th>\n",
       "      <td>White</td>\n",
       "      <td>COMMERCIAL</td>\n",
       "      <td>CA</td>\n",
       "      <td>West</td>\n",
       "      <td>Pacific</td>\n",
       "      <td>F</td>\n",
       "      <td>C50912</td>\n",
       "      <td>Malignant neoplasm of unspecified site of left...</td>\n",
       "      <td>C773</td>\n",
       "      <td>184</td>\n",
       "    </tr>\n",
       "    <tr>\n",
       "      <th>10</th>\n",
       "      <td>Black</td>\n",
       "      <td>MEDICARE ADVANTAGE</td>\n",
       "      <td>PA</td>\n",
       "      <td>Northeast</td>\n",
       "      <td>Middle Atlantic</td>\n",
       "      <td>F</td>\n",
       "      <td>C50911</td>\n",
       "      <td>Malignant neoplasm of unsp site of right femal...</td>\n",
       "      <td>C7989</td>\n",
       "      <td>316</td>\n",
       "    </tr>\n",
       "    <tr>\n",
       "      <th>...</th>\n",
       "      <td>...</td>\n",
       "      <td>...</td>\n",
       "      <td>...</td>\n",
       "      <td>...</td>\n",
       "      <td>...</td>\n",
       "      <td>...</td>\n",
       "      <td>...</td>\n",
       "      <td>...</td>\n",
       "      <td>...</td>\n",
       "      <td>...</td>\n",
       "    </tr>\n",
       "    <tr>\n",
       "      <th>13162</th>\n",
       "      <td>Black</td>\n",
       "      <td>MEDICAID</td>\n",
       "      <td>SC</td>\n",
       "      <td>South</td>\n",
       "      <td>South Atlantic</td>\n",
       "      <td>F</td>\n",
       "      <td>C50919</td>\n",
       "      <td>Malignant neoplasm of unsp site of unspecified...</td>\n",
       "      <td>C773</td>\n",
       "      <td>182</td>\n",
       "    </tr>\n",
       "    <tr>\n",
       "      <th>13164</th>\n",
       "      <td>Other</td>\n",
       "      <td>COMMERCIAL</td>\n",
       "      <td>CO</td>\n",
       "      <td>West</td>\n",
       "      <td>Mountain</td>\n",
       "      <td>F</td>\n",
       "      <td>C50919</td>\n",
       "      <td>Malignant neoplasm of unsp site of unspecified...</td>\n",
       "      <td>C7931</td>\n",
       "      <td>64</td>\n",
       "    </tr>\n",
       "    <tr>\n",
       "      <th>13165</th>\n",
       "      <td>Black</td>\n",
       "      <td>COMMERCIAL</td>\n",
       "      <td>GA</td>\n",
       "      <td>South</td>\n",
       "      <td>South Atlantic</td>\n",
       "      <td>F</td>\n",
       "      <td>C50919</td>\n",
       "      <td>Malignant neoplasm of unsp site of unspecified...</td>\n",
       "      <td>C779</td>\n",
       "      <td>70</td>\n",
       "    </tr>\n",
       "    <tr>\n",
       "      <th>13168</th>\n",
       "      <td>Hispanic</td>\n",
       "      <td>MEDICAID</td>\n",
       "      <td>PA</td>\n",
       "      <td>Northeast</td>\n",
       "      <td>Middle Atlantic</td>\n",
       "      <td>F</td>\n",
       "      <td>C50911</td>\n",
       "      <td>Malignant neoplasm of unsp site of right femal...</td>\n",
       "      <td>C773</td>\n",
       "      <td>106</td>\n",
       "    </tr>\n",
       "    <tr>\n",
       "      <th>13172</th>\n",
       "      <td>Hispanic</td>\n",
       "      <td>MEDICAID</td>\n",
       "      <td>CA</td>\n",
       "      <td>West</td>\n",
       "      <td>Pacific</td>\n",
       "      <td>F</td>\n",
       "      <td>C50911</td>\n",
       "      <td>Malignant neoplasm of unsp site of right femal...</td>\n",
       "      <td>C787</td>\n",
       "      <td>0</td>\n",
       "    </tr>\n",
       "  </tbody>\n",
       "</table>\n",
       "<p>5424 rows × 10 columns</p>\n",
       "</div>"
      ],
      "text/plain": [
       "      patient_race          payer_type patient_state     Region  \\\n",
       "3         Hispanic            MEDICAID            CA       West   \n",
       "6            White  MEDICARE ADVANTAGE            OH    Midwest   \n",
       "7            White          COMMERCIAL            DE      South   \n",
       "9            White          COMMERCIAL            CA       West   \n",
       "10           Black  MEDICARE ADVANTAGE            PA  Northeast   \n",
       "...            ...                 ...           ...        ...   \n",
       "13162        Black            MEDICAID            SC      South   \n",
       "13164        Other          COMMERCIAL            CO       West   \n",
       "13165        Black          COMMERCIAL            GA      South   \n",
       "13168     Hispanic            MEDICAID            PA  Northeast   \n",
       "13172     Hispanic            MEDICAID            CA       West   \n",
       "\n",
       "                 Division patient_gender breast_cancer_diagnosis_code  \\\n",
       "3                 Pacific              F                       C50911   \n",
       "6      East North Central              F                       C50412   \n",
       "7          South Atlantic              F                       C50411   \n",
       "9                 Pacific              F                       C50912   \n",
       "10        Middle Atlantic              F                       C50911   \n",
       "...                   ...            ...                          ...   \n",
       "13162      South Atlantic              F                       C50919   \n",
       "13164            Mountain              F                       C50919   \n",
       "13165      South Atlantic              F                       C50919   \n",
       "13168     Middle Atlantic              F                       C50911   \n",
       "13172             Pacific              F                       C50911   \n",
       "\n",
       "                            breast_cancer_diagnosis_desc  \\\n",
       "3      Malignant neoplasm of unsp site of right femal...   \n",
       "6      Malig neoplasm of upper-outer quadrant of left...   \n",
       "7      Malig neoplm of upper-outer quadrant of right ...   \n",
       "9      Malignant neoplasm of unspecified site of left...   \n",
       "10     Malignant neoplasm of unsp site of right femal...   \n",
       "...                                                  ...   \n",
       "13162  Malignant neoplasm of unsp site of unspecified...   \n",
       "13164  Malignant neoplasm of unsp site of unspecified...   \n",
       "13165  Malignant neoplasm of unsp site of unspecified...   \n",
       "13168  Malignant neoplasm of unsp site of right femal...   \n",
       "13172  Malignant neoplasm of unsp site of right femal...   \n",
       "\n",
       "      metastatic_cancer_diagnosis_code  metastatic_diagnosis_period  \n",
       "3                                 C773                          146  \n",
       "6                                 C799                           59  \n",
       "7                                 C792                          316  \n",
       "9                                 C773                          184  \n",
       "10                               C7989                          316  \n",
       "...                                ...                          ...  \n",
       "13162                             C773                          182  \n",
       "13164                            C7931                           64  \n",
       "13165                             C779                           70  \n",
       "13168                             C773                          106  \n",
       "13172                             C787                            0  \n",
       "\n",
       "[5424 rows x 10 columns]"
      ]
     },
     "execution_count": 176,
     "metadata": {},
     "output_type": "execute_result"
    }
   ],
   "source": [
    "categorical.drop([\"metastatic_first_novel_treatment\",\"metastatic_first_novel_treatment_type\"], axis=1, inplace=True)\n",
    "categorical.dropna()"
   ]
  },
  {
   "cell_type": "code",
   "execution_count": 177,
   "metadata": {},
   "outputs": [],
   "source": [
    "last_column = categorical.columns[-1]\n",
    "\n",
    "df_encoded = pd.get_dummies(categorical)\n",
    "\n",
    "correlations = df_encoded.corr(method='kendall')"
   ]
  },
  {
   "cell_type": "markdown",
   "metadata": {},
   "source": [
    "Here, correlation for each dummy label under each of the main categories in categorical are explored"
   ]
  },
  {
   "cell_type": "code",
   "execution_count": 178,
   "metadata": {},
   "outputs": [],
   "source": [
    "def find_extreme_correlations(series, category):\n",
    "    max_corr_idx = series.idxmax()\n",
    "    min_corr_idx = series.idxmin()\n",
    "    \n",
    "    max_corr = series[max_corr_idx]\n",
    "    min_corr = series[min_corr_idx]\n",
    "\n",
    "    median_corr = series.median()\n",
    "    \n",
    "    print(f\"Highest correlation: {max_corr_idx} with score {max_corr}\")\n",
    "    print(f\"Lowest correlation: {min_corr_idx} with score {min_corr}\")\n",
    "\n",
    "    return {\"category\":category, \"max\":max_corr, \"min\":min_corr, \"median\":median_corr}\n",
    "\n",
    "data = []"
   ]
  },
  {
   "cell_type": "code",
   "execution_count": 179,
   "metadata": {},
   "outputs": [
    {
     "name": "stdout",
     "output_type": "stream",
     "text": [
      "Highest correlation: patient_race_Asian with score 0.00681194976513794\n",
      "Lowest correlation: patient_race_Hispanic with score -0.038704685806830244\n"
     ]
    }
   ],
   "source": [
    "race_correlation = correlations[\"metastatic_diagnosis_period\"][correlations.index.str.contains('race')]\n",
    "race_dict = find_extreme_correlations(race_correlation, \"race\")\n",
    "data.append(race_dict)"
   ]
  },
  {
   "cell_type": "code",
   "execution_count": 180,
   "metadata": {},
   "outputs": [
    {
     "name": "stdout",
     "output_type": "stream",
     "text": [
      "Highest correlation: payer_type_COMMERCIAL with score 0.06626785814078866\n",
      "Lowest correlation: payer_type_MEDICAID with score -0.023513966644608447\n"
     ]
    }
   ],
   "source": [
    "payer_correlation = correlations[\"metastatic_diagnosis_period\"][correlations.index.str.contains('payer')]\n",
    "payer_dict = find_extreme_correlations(payer_correlation,\"payer\")\n",
    "data.append(payer_dict)"
   ]
  },
  {
   "cell_type": "code",
   "execution_count": 181,
   "metadata": {},
   "outputs": [
    {
     "name": "stdout",
     "output_type": "stream",
     "text": [
      "Highest correlation: patient_state_NY with score 0.032661087386963786\n",
      "Lowest correlation: patient_state_CO with score -0.05392484774354575\n"
     ]
    }
   ],
   "source": [
    "state_correlation = correlations[\"metastatic_diagnosis_period\"][correlations.index.str.contains('state')]\n",
    "state_dict = find_extreme_correlations(state_correlation,\"state\")\n",
    "data.append(state_dict)"
   ]
  },
  {
   "cell_type": "code",
   "execution_count": 182,
   "metadata": {},
   "outputs": [
    {
     "name": "stdout",
     "output_type": "stream",
     "text": [
      "Highest correlation: Region_Northeast with score 0.02259445908665913\n",
      "Lowest correlation: Region_West with score -0.03672249060593086\n"
     ]
    }
   ],
   "source": [
    "region_correlation = correlations[\"metastatic_diagnosis_period\"][correlations.index.str.contains('Region')]\n",
    "region_dict = find_extreme_correlations(region_correlation,\"region\")\n",
    "data.append(region_dict)"
   ]
  },
  {
   "cell_type": "code",
   "execution_count": 183,
   "metadata": {},
   "outputs": [
    {
     "name": "stdout",
     "output_type": "stream",
     "text": [
      "Highest correlation: Division_Middle Atlantic with score 0.02259445908665913\n",
      "Lowest correlation: Division_Pacific with score -0.03245162110332791\n"
     ]
    }
   ],
   "source": [
    "division_correlation = correlations[\"metastatic_diagnosis_period\"][correlations.index.str.contains('Division')]\n",
    "division_dict = find_extreme_correlations(division_correlation,\"division\")\n",
    "data.append(division_dict)"
   ]
  },
  {
   "cell_type": "code",
   "execution_count": 184,
   "metadata": {},
   "outputs": [
    {
     "data": {
      "text/plain": [
       "patient_gender_F   NaN\n",
       "Name: metastatic_diagnosis_period, dtype: float64"
      ]
     },
     "execution_count": 184,
     "metadata": {},
     "output_type": "execute_result"
    }
   ],
   "source": [
    "gender_correlation = correlations[\"metastatic_diagnosis_period\"][correlations.index.str.contains('patient_gender')]\n",
    "gender_correlation"
   ]
  },
  {
   "cell_type": "markdown",
   "metadata": {},
   "source": [
    "Here, the feature \"patient_gender\" has a singular value, yeilding a NaN correlation. This implies that all rows for this column only contain the gender female. Since this column will not provide useful information when predicting the target, it will be removed from this analysis. "
   ]
  },
  {
   "cell_type": "code",
   "execution_count": 185,
   "metadata": {},
   "outputs": [
    {
     "name": "stdout",
     "output_type": "stream",
     "text": [
      "Highest correlation: breast_cancer_diagnosis_code_1749 with score 0.38332992498440843\n",
      "Lowest correlation: breast_cancer_diagnosis_code_C50919 with score -0.13187013088122038\n"
     ]
    }
   ],
   "source": [
    "breast_cancer_diagnosis_code_correlation = correlations[\"metastatic_diagnosis_period\"][correlations.index.str.contains('breast_cancer_diagnosis_code')]\n",
    "breast_cancer_diagnosis_code_dict = find_extreme_correlations(breast_cancer_diagnosis_code_correlation, \"breast_cancer_diagnosis_code\")\n",
    "data.append(breast_cancer_diagnosis_code_dict)"
   ]
  },
  {
   "cell_type": "code",
   "execution_count": 186,
   "metadata": {},
   "outputs": [
    {
     "name": "stdout",
     "output_type": "stream",
     "text": [
      "Highest correlation: breast_cancer_diagnosis_desc_Malignant neoplasm of breast (female), unspecified with score 0.38332992498440843\n",
      "Lowest correlation: breast_cancer_diagnosis_desc_Malignant neoplasm of unsp site of unspecified female breast with score -0.13187013088122038\n"
     ]
    }
   ],
   "source": [
    "breast_cancer_diagnosis_desc_correlation = correlations[\"metastatic_diagnosis_period\"][correlations.index.str.contains('breast_cancer_diagnosis_desc')]\n",
    "breast_cancer_diagnosis_desc_dict = find_extreme_correlations(breast_cancer_diagnosis_desc_correlation, \"breast_cancer_diagnosis_desc\")\n",
    "data.append(breast_cancer_diagnosis_desc_dict)"
   ]
  },
  {
   "cell_type": "code",
   "execution_count": 187,
   "metadata": {},
   "outputs": [
    {
     "name": "stdout",
     "output_type": "stream",
     "text": [
      "Highest correlation: metastatic_cancer_diagnosis_code_C7981 with score 0.04683106309114426\n",
      "Lowest correlation: metastatic_cancer_diagnosis_code_C7800 with score -0.046872970026728106\n"
     ]
    }
   ],
   "source": [
    "metastatic_cancer_diagnosis_code_correlation = correlations[\"metastatic_diagnosis_period\"][correlations.index.str.contains('metastatic_cancer_diagnosis_code')]\n",
    "metastatic_cancer_diagnosis_code_dict = find_extreme_correlations(metastatic_cancer_diagnosis_code_correlation, 'metastatic_cancer_diagnosis_code')\n",
    "data.append(metastatic_cancer_diagnosis_code_dict)"
   ]
  },
  {
   "cell_type": "code",
   "execution_count": 188,
   "metadata": {},
   "outputs": [
    {
     "data": {
      "image/png": "[encoded data removed]",
      "text/plain": [
       "<Figure size 1000x600 with 1 Axes>"
      ]
     },
     "metadata": {},
     "output_type": "display_data"
    }
   ],
   "source": [
    "sorted_data = sorted(data, key=lambda x: x[\"max\"], reverse=True)\n",
    "\n",
    "categories = [item[\"category\"] for item in sorted_data]\n",
    "max_values = [item[\"max\"] for item in sorted_data]\n",
    "min_values = [item[\"min\"] for item in sorted_data]\n",
    "median_values = [item[\"median\"] for item in sorted_data]\n",
    "\n",
    "bar_width = 0.15\n",
    "index = np.arange(len(categories))\n",
    "\n",
    "plt.figure(figsize=(10, 6))\n",
    "\n",
    "plt.bar(index, max_values, bar_width, label='Max Value', color='skyblue')\n",
    "plt.bar(index + bar_width, min_values, bar_width, label='Min Value', color='orange')\n",
    "plt.bar(index + 2*bar_width, median_values, bar_width, label='Median Value', color='lightgreen')\n",
    "\n",
    "plt.xlabel('Categories')\n",
    "plt.ylabel('Values')\n",
    "plt.title('Histogram of Max, Min, and Median Values by Category')\n",
    "plt.xticks(index + bar_width, categories, rotation=45)\n",
    "plt.legend()\n",
    "\n",
    "plt.tight_layout()\n",
    "plt.show()"
   ]
  },
  {
   "cell_type": "markdown",
   "metadata": {},
   "source": [
    "Based on the above, the \"breast_cancer_diagnosis_code\" and \"breast_cancer_diagnosis_desc\" features would prove to be the most useful when predicting the target variable. The remaining categorical features could be explored further using methods such as feature engineering to determine if they could contribute to predicting the target. "
   ]
  },
  {
   "cell_type": "markdown",
   "metadata": {},
   "source": [
    "Columns to be dropped:\n",
    "- \"metastatic_first_novel_treatment\"\n",
    "- \"metastatic_first_novel_treatment_type\"\n",
    "- \"patient_gender\""
   ]
  },
  {
   "cell_type": "markdown",
   "metadata": {},
   "source": [
    "### Computing correlation for numeric variables"
   ]
  },
  {
   "cell_type": "markdown",
   "metadata": {},
   "source": [
    "## Exploring Null Values"
   ]
  },
  {
   "cell_type": "code",
   "execution_count": 189,
   "metadata": {},
   "outputs": [
    {
     "name": "stdout",
     "output_type": "stream",
     "text": [
      "% of features that contain atleast 1 null value is 47.37\n",
      "% of features that contain 50% or more of null values is 2.63\n",
      "% of features that contain 75% or more of null values is 1.32\n"
     ]
    }
   ],
   "source": [
    "print(f\"% of features that contain atleast 1 null value is {round(100*len(summary_df[summary_df['% Null Values']>0])/len(summary_df.axes[0]),2)}\")\n",
    "print(f\"% of features that contain 50% or more of null values is {round(100*len(summary_df[summary_df['% Null Values']>50])/len(summary_df.axes[0]),2)}\")\n",
    "print(f\"% of features that contain 75% or more of null values is {round(100*len(summary_df[summary_df['% Null Values']>75])/len(summary_df.axes[0]),2)}\")"
   ]
  },
  {
   "cell_type": "markdown",
   "metadata": {},
   "source": [
    "Exploring columns with having more than 40% of it's values missing"
   ]
  },
  {
   "cell_type": "code",
   "execution_count": 190,
   "metadata": {},
   "outputs": [
    {
     "data": {
      "text/html": [
       "<div>\n",
       "<style scoped>\n",
       "    .dataframe tbody tr th:only-of-type {\n",
       "        vertical-align: middle;\n",
       "    }\n",
       "\n",
       "    .dataframe tbody tr th {\n",
       "        vertical-align: top;\n",
       "    }\n",
       "\n",
       "    .dataframe thead th {\n",
       "        text-align: right;\n",
       "    }\n",
       "</style>\n",
       "<table border=\"1\" class=\"dataframe\">\n",
       "  <thead>\n",
       "    <tr style=\"text-align: right;\">\n",
       "      <th></th>\n",
       "      <th>Feature</th>\n",
       "      <th>% Null Values</th>\n",
       "      <th>Data Type</th>\n",
       "    </tr>\n",
       "  </thead>\n",
       "  <tbody>\n",
       "    <tr>\n",
       "      <th>1</th>\n",
       "      <td>patient_race</td>\n",
       "      <td>50.535186</td>\n",
       "      <td>object</td>\n",
       "    </tr>\n",
       "    <tr>\n",
       "      <th>9</th>\n",
       "      <td>bmi</td>\n",
       "      <td>68.860548</td>\n",
       "      <td>float64</td>\n",
       "    </tr>\n",
       "    <tr>\n",
       "      <th>13</th>\n",
       "      <td>metastatic_first_novel_treatment</td>\n",
       "      <td>99.916496</td>\n",
       "      <td>object</td>\n",
       "    </tr>\n",
       "    <tr>\n",
       "      <th>14</th>\n",
       "      <td>metastatic_first_novel_treatment_type</td>\n",
       "      <td>99.916496</td>\n",
       "      <td>object</td>\n",
       "    </tr>\n",
       "  </tbody>\n",
       "</table>\n",
       "</div>"
      ],
      "text/plain": [
       "                                  Feature  % Null Values Data Type\n",
       "1                            patient_race      50.535186    object\n",
       "9                                     bmi      68.860548   float64\n",
       "13       metastatic_first_novel_treatment      99.916496    object\n",
       "14  metastatic_first_novel_treatment_type      99.916496    object"
      ]
     },
     "execution_count": 190,
     "metadata": {},
     "output_type": "execute_result"
    }
   ],
   "source": [
    "summary_df[summary_df['% Null Values']>=50]"
   ]
  },
  {
   "cell_type": "code",
   "execution_count": 191,
   "metadata": {},
   "outputs": [
    {
     "data": {
      "text/html": [
       "<div>\n",
       "<style scoped>\n",
       "    .dataframe tbody tr th:only-of-type {\n",
       "        vertical-align: middle;\n",
       "    }\n",
       "\n",
       "    .dataframe tbody tr th {\n",
       "        vertical-align: top;\n",
       "    }\n",
       "\n",
       "    .dataframe thead th {\n",
       "        text-align: right;\n",
       "    }\n",
       "</style>\n",
       "<table border=\"1\" class=\"dataframe\">\n",
       "  <thead>\n",
       "    <tr style=\"text-align: right;\">\n",
       "      <th></th>\n",
       "      <th>Feature</th>\n",
       "      <th>% Null Values</th>\n",
       "      <th>Data Type</th>\n",
       "    </tr>\n",
       "  </thead>\n",
       "  <tbody>\n",
       "    <tr>\n",
       "      <th>1</th>\n",
       "      <td>patient_race</td>\n",
       "      <td>50.535186</td>\n",
       "      <td>object</td>\n",
       "    </tr>\n",
       "    <tr>\n",
       "      <th>9</th>\n",
       "      <td>bmi</td>\n",
       "      <td>68.860548</td>\n",
       "      <td>float64</td>\n",
       "    </tr>\n",
       "    <tr>\n",
       "      <th>13</th>\n",
       "      <td>metastatic_first_novel_treatment</td>\n",
       "      <td>99.916496</td>\n",
       "      <td>object</td>\n",
       "    </tr>\n",
       "    <tr>\n",
       "      <th>14</th>\n",
       "      <td>metastatic_first_novel_treatment_type</td>\n",
       "      <td>99.916496</td>\n",
       "      <td>object</td>\n",
       "    </tr>\n",
       "  </tbody>\n",
       "</table>\n",
       "</div>"
      ],
      "text/plain": [
       "                                  Feature  % Null Values Data Type\n",
       "1                            patient_race      50.535186    object\n",
       "9                                     bmi      68.860548   float64\n",
       "13       metastatic_first_novel_treatment      99.916496    object\n",
       "14  metastatic_first_novel_treatment_type      99.916496    object"
      ]
     },
     "execution_count": 191,
     "metadata": {},
     "output_type": "execute_result"
    }
   ],
   "source": [
    "summary_df[summary_df['% Null Values']>=20]"
   ]
  }
 ],
 "metadata": {
  "kernelspec": {
   "display_name": "base",
   "language": "python",
   "name": "python3"
  },
  "language_info": {
   "codemirror_mode": {
    "name": "ipython",
    "version": 3
   },
   "file_extension": ".py",
   "mimetype": "text/x-python",
   "name": "python",
   "nbconvert_exporter": "python",
   "pygments_lexer": "ipython3",
   "version": "3.11.7"
  }
 },
 "nbformat": 4,
 "nbformat_minor": 2
}
