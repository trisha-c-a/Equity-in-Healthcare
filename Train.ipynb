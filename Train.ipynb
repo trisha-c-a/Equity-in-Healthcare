{
 "cells": [
  {
   "cell_type": "markdown",
   "metadata": {},
   "source": [
    "# Training\n",
    "\n",
    "After repeated runs between conducting an exploratory data analysis and model training, the following yielded the best results.\n",
    "-  Preprocessing: Creating a column that distinguished ICD-9 from ICD-10 codes reduced the RMSE by 10. Coupling this with creating a column for metastatic_cancer_diagnosis_descriptions and categorizing patient bmis helped acheive a private score of 81.\n",
    "- Features: 'patient_age', 'breast_cancer_diagnosis_code', 'bmi_category', \"ICD_code\", \"metastatic_cancer_diagnosis_desc\", 'patient_zip3',\"metastatic_cancer_diagnosis_code\" gave the best results. In particular, \"ICD_code\", had the highest contribution to score improvement and has the highest feature importance score for catboost.\n",
    "- Model: Based on the feature selection methodology performed, catboost was the best performing model and was used for this study.\n",
    "\n",
    "Current Best Private Score on Test Data: 81.00\n",
    "Current Validation Score: 82.29"
   ]
  },
  {
   "cell_type": "code",
   "execution_count": 1,
   "metadata": {},
   "outputs": [],
   "source": [
    "import pandas as pd\n",
    "import numpy as np\n",
    "from helper import cleaning_and_null_handling\n",
    "\n",
    "from sklearn.model_selection import train_test_split\n",
    "from sklearn.metrics import root_mean_squared_error\n",
    "from catboost import CatBoostRegressor\n",
    "\n",
    "import warnings\n",
    "\n",
    "warnings.filterwarnings(\"ignore\")"
   ]
  },
  {
   "cell_type": "code",
   "execution_count": 2,
   "metadata": {},
   "outputs": [],
   "source": [
    "df = pd.read_csv(\"train.csv\")\n",
    "test_df = pd.read_csv(\"test.csv\")\n",
    "ICD_codes_df = pd.read_csv(\"ICD-CM-Codes.csv\")\n",
    "\n",
    "features = df.columns.to_list()"
   ]
  },
  {
   "cell_type": "code",
   "execution_count": 3,
   "metadata": {},
   "outputs": [
    {
     "name": "stdout",
     "output_type": "stream",
     "text": [
      "breast_cancer_diagnosis_code and breast_cancer_diagnosis_desc cleaning done.\n",
      "Assigned metastatic descriptions\n",
      "BMI categorization done.\n"
     ]
    }
   ],
   "source": [
    "#Data Cleaning and Null Handling\n",
    "remove_cols = [\"metastatic_diagnosis_period\", \"patient_id\"]\n",
    "df, test_df = cleaning_and_null_handling(df, test_df, ICD_codes_df,features=features, remove_cols=remove_cols, bmi_groups=True)\n",
    "\n",
    "new_features = [\n",
    "    'patient_age', 'breast_cancer_diagnosis_code',\n",
    "    \"ICD_code\", \"metastatic_cancer_diagnosis_desc\", 'patient_zip3',\n",
    "    \"metastatic_cancer_diagnosis_code\",\n",
    "    \"payer_type\",\n",
    "    \"patient_id\", \"metastatic_diagnosis_period\"\n",
    "]\n",
    "\n",
    "df = df[new_features]\n",
    "test_df = test_df[new_features[:-1]]\n",
    "\n",
    "cat_features = df.select_dtypes(include=['object', 'category']).columns.tolist()\n",
    "\n",
    "for column in df.select_dtypes(include='object').columns:\n",
    "    df[column] = pd.Categorical(df[column].fillna(\"Missing\"))\n",
    "    test_df[column] = pd.Categorical(test_df[column].fillna(\"Missing\"))   "
   ]
  },
  {
   "cell_type": "code",
   "execution_count": 4,
   "metadata": {},
   "outputs": [],
   "source": [
    "#Data split\n",
    "train_df, val_df = train_test_split(df, test_size=0.2, random_state=42)\n",
    "\n",
    "X_train = train_df.drop(columns=[\"metastatic_diagnosis_period\", \"patient_id\"])\n",
    "y_train = train_df[\"metastatic_diagnosis_period\"]\n",
    "\n",
    "X_val = val_df.drop(columns=[\"metastatic_diagnosis_period\", \"patient_id\"])\n",
    "y_val = val_df[\"metastatic_diagnosis_period\"]\n",
    "\n",
    "ids = test_df[[\"patient_id\"]].copy()\n",
    "X_test = test_df.drop(columns=[\"patient_id\"])"
   ]
  },
  {
   "cell_type": "code",
   "execution_count": 5,
   "metadata": {},
   "outputs": [
    {
     "data": {
      "text/plain": [
       "<catboost.core.CatBoostRegressor at 0x1e6206bf310>"
      ]
     },
     "execution_count": 5,
     "metadata": {},
     "output_type": "execute_result"
    }
   ],
   "source": [
    "#Train model\n",
    "model = CatBoostRegressor(iterations=100, depth=6, learning_rate=0.1, loss_function='RMSE', random_state=42, \n",
    "                          verbose=0, cat_features=cat_features)\n",
    "model.fit(X_train, y_train)"
   ]
  },
  {
   "cell_type": "code",
   "execution_count": 6,
   "metadata": {},
   "outputs": [
    {
     "name": "stdout",
     "output_type": "stream",
     "text": [
      "Validation RMSE: 82.28\n"
     ]
    }
   ],
   "source": [
    "#Generate validation RMSE\n",
    "y_val_pred = np.uint16(np.around(np.clip(model.predict(X_val), a_min = 0, a_max = np.inf),0))\n",
    "val_rmse = root_mean_squared_error(y_val, y_val_pred)\n",
    "print(f\"Validation RMSE: {round(val_rmse,2)}\")"
   ]
  },
  {
   "cell_type": "code",
   "execution_count": 7,
   "metadata": {},
   "outputs": [
    {
     "data": {
      "text/html": [
       "<div>\n",
       "<style scoped>\n",
       "    .dataframe tbody tr th:only-of-type {\n",
       "        vertical-align: middle;\n",
       "    }\n",
       "\n",
       "    .dataframe tbody tr th {\n",
       "        vertical-align: top;\n",
       "    }\n",
       "\n",
       "    .dataframe thead th {\n",
       "        text-align: right;\n",
       "    }\n",
       "</style>\n",
       "<table border=\"1\" class=\"dataframe\">\n",
       "  <thead>\n",
       "    <tr style=\"text-align: right;\">\n",
       "      <th></th>\n",
       "      <th>Feature</th>\n",
       "      <th>Importance</th>\n",
       "    </tr>\n",
       "  </thead>\n",
       "  <tbody>\n",
       "    <tr>\n",
       "      <th>2</th>\n",
       "      <td>ICD_code</td>\n",
       "      <td>87.911868</td>\n",
       "    </tr>\n",
       "    <tr>\n",
       "      <th>0</th>\n",
       "      <td>patient_age</td>\n",
       "      <td>4.326794</td>\n",
       "    </tr>\n",
       "    <tr>\n",
       "      <th>4</th>\n",
       "      <td>patient_zip3</td>\n",
       "      <td>2.058083</td>\n",
       "    </tr>\n",
       "    <tr>\n",
       "      <th>3</th>\n",
       "      <td>metastatic_cancer_diagnosis_desc</td>\n",
       "      <td>1.749359</td>\n",
       "    </tr>\n",
       "    <tr>\n",
       "      <th>5</th>\n",
       "      <td>metastatic_cancer_diagnosis_code</td>\n",
       "      <td>1.589866</td>\n",
       "    </tr>\n",
       "    <tr>\n",
       "      <th>6</th>\n",
       "      <td>payer_type</td>\n",
       "      <td>1.427957</td>\n",
       "    </tr>\n",
       "    <tr>\n",
       "      <th>1</th>\n",
       "      <td>breast_cancer_diagnosis_code</td>\n",
       "      <td>0.936073</td>\n",
       "    </tr>\n",
       "  </tbody>\n",
       "</table>\n",
       "</div>"
      ],
      "text/plain": [
       "                            Feature  Importance\n",
       "2                          ICD_code   87.911868\n",
       "0                       patient_age    4.326794\n",
       "4                      patient_zip3    2.058083\n",
       "3  metastatic_cancer_diagnosis_desc    1.749359\n",
       "5  metastatic_cancer_diagnosis_code    1.589866\n",
       "6                        payer_type    1.427957\n",
       "1      breast_cancer_diagnosis_code    0.936073"
      ]
     },
     "execution_count": 7,
     "metadata": {},
     "output_type": "execute_result"
    }
   ],
   "source": [
    "feature_importance_df = pd.DataFrame({\n",
    "            'Feature': X_train.columns,\n",
    "            'Importance': model.feature_importances_\n",
    "        })\n",
    "feature_importance_df.sort_values(by='Importance', ascending=False).head(15)"
   ]
  },
  {
   "cell_type": "code",
   "execution_count": 8,
   "metadata": {},
   "outputs": [
    {
     "data": {
      "text/html": [
       "<div>\n",
       "<style scoped>\n",
       "    .dataframe tbody tr th:only-of-type {\n",
       "        vertical-align: middle;\n",
       "    }\n",
       "\n",
       "    .dataframe tbody tr th {\n",
       "        vertical-align: top;\n",
       "    }\n",
       "\n",
       "    .dataframe thead th {\n",
       "        text-align: right;\n",
       "    }\n",
       "</style>\n",
       "<table border=\"1\" class=\"dataframe\">\n",
       "  <thead>\n",
       "    <tr style=\"text-align: right;\">\n",
       "      <th></th>\n",
       "      <th>patient_id</th>\n",
       "      <th>metastatic_diagnosis_period</th>\n",
       "    </tr>\n",
       "  </thead>\n",
       "  <tbody>\n",
       "    <tr>\n",
       "      <th>0</th>\n",
       "      <td>730681</td>\n",
       "      <td>207</td>\n",
       "    </tr>\n",
       "    <tr>\n",
       "      <th>1</th>\n",
       "      <td>334212</td>\n",
       "      <td>51</td>\n",
       "    </tr>\n",
       "    <tr>\n",
       "      <th>2</th>\n",
       "      <td>571362</td>\n",
       "      <td>208</td>\n",
       "    </tr>\n",
       "    <tr>\n",
       "      <th>3</th>\n",
       "      <td>907331</td>\n",
       "      <td>225</td>\n",
       "    </tr>\n",
       "    <tr>\n",
       "      <th>4</th>\n",
       "      <td>208382</td>\n",
       "      <td>37</td>\n",
       "    </tr>\n",
       "  </tbody>\n",
       "</table>\n",
       "</div>"
      ],
      "text/plain": [
       "   patient_id  metastatic_diagnosis_period\n",
       "0      730681                          207\n",
       "1      334212                           51\n",
       "2      571362                          208\n",
       "3      907331                          225\n",
       "4      208382                           37"
      ]
     },
     "execution_count": 8,
     "metadata": {},
     "output_type": "execute_result"
    }
   ],
   "source": [
    "#Generate test predictions and submission.csv\n",
    "test_pred = np.uint16(np.around(np.clip(model.predict(X_test), a_min = 0, a_max = np.inf),0))\n",
    "\n",
    "submission = ids.copy()\n",
    "submission['metastatic_diagnosis_period'] = test_pred\n",
    "submission.to_csv('submission.csv', index=False)\n",
    "submission.head()\n"
   ]
  }
 ],
 "metadata": {
  "kernelspec": {
   "display_name": "venv",
   "language": "python",
   "name": "python3"
  },
  "language_info": {
   "codemirror_mode": {
    "name": "ipython",
    "version": 3
   },
   "file_extension": ".py",
   "mimetype": "text/x-python",
   "name": "python",
   "nbconvert_exporter": "python",
   "pygments_lexer": "ipython3",
   "version": "3.11.7"
  }
 },
 "nbformat": 4,
 "nbformat_minor": 2
}
