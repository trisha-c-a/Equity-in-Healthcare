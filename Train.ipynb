{
 "cells": [
  {
   "cell_type": "code",
   "execution_count": 1,
   "metadata": {},
   "outputs": [],
   "source": [
    "import pandas as pd\n",
    "import numpy as np\n",
    "from helper import cleaning_and_null_handling\n",
    "\n",
    "from sklearn.model_selection import train_test_split\n",
    "from sklearn.metrics import root_mean_squared_error\n",
    "from sklearn.preprocessing import LabelEncoder\n",
    "from catboost import CatBoostRegressor\n",
    "\n",
    "import warnings\n",
    "\n",
    "warnings.filterwarnings(\"ignore\")"
   ]
  },
  {
   "cell_type": "code",
   "execution_count": 2,
   "metadata": {},
   "outputs": [],
   "source": [
    "df = pd.read_csv(\"train.csv\")\n",
    "test_df = pd.read_csv(\"test.csv\")\n",
    "ICD_codes_df = pd.read_csv(\"ICD-CM-Codes.csv\")\n",
    "\n",
    "features = ['patient_age', 'breast_cancer_diagnosis_desc', 'breast_cancer_diagnosis_code', 'bmi', 'Average of Jun-17', \n",
    "            'education_graduate', 'age_10_to_19', 'patient_zip3', 'commute_time', 'race_native', 'Average of Aug-16', \n",
    "            'income_household_35_to_50', 'divorced', 'Average of Jul-14', 'family_size', 'metastatic_diagnosis_period', 'age_group']"
   ]
  },
  {
   "cell_type": "markdown",
   "metadata": {},
   "source": [
    "## Data Cleaning and Null Handling"
   ]
  },
  {
   "cell_type": "code",
   "execution_count": 3,
   "metadata": {},
   "outputs": [
    {
     "name": "stdout",
     "output_type": "stream",
     "text": [
      "Age group assignments done.\n",
      "breast_cancer_diagnosis_code and breast_cancer_diagnosis_desc cleaning done.\n",
      "BMI imputation and categorization done.\n"
     ]
    }
   ],
   "source": [
    "df, test_df = cleaning_and_null_handling(df, test_df, ICD_codes_df, features)"
   ]
  }
 ],
 "metadata": {
  "kernelspec": {
   "display_name": "venv",
   "language": "python",
   "name": "python3"
  },
  "language_info": {
   "codemirror_mode": {
    "name": "ipython",
    "version": 3
   },
   "file_extension": ".py",
   "mimetype": "text/x-python",
   "name": "python",
   "nbconvert_exporter": "python",
   "pygments_lexer": "ipython3",
   "version": "3.11.7"
  }
 },
 "nbformat": 4,
 "nbformat_minor": 2
}
